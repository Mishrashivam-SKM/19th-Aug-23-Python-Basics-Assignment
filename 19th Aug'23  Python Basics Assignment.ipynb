{
 "cells": [
  {
   "cell_type": "markdown",
   "id": "8bb0bc75-8a97-4a6c-ac43-edf83cb4cdc5",
   "metadata": {},
   "source": [
    "Python Basics Variable"
   ]
  },
  {
   "cell_type": "code",
   "execution_count": 30,
   "id": "8f92e093-c889-4795-90f3-2d251e210227",
   "metadata": {},
   "outputs": [
    {
     "name": "stdout",
     "output_type": "stream",
     "text": [
      "Value of x = 10 and y = -10\n",
      "Method 1 \n",
      "Reversed value of x = -10 and y = 10\n",
      "Method 2\n",
      "Reversed value of x = -10 and y = 10\n"
     ]
    }
   ],
   "source": [
    "#Q1]\n",
    "#Declaring two variables x & y\n",
    "x,y = 10, -10\n",
    "print(f\"Value of x = {x} and y = {y}\")\n",
    "#swapping the vairables using temp variable\n",
    "temp = x\n",
    "x = y\n",
    "y = temp\n",
    "print(f\"Method 1 \\nReversed value of x = {x} and y = {y}\")\n",
    "a,b = 10, -10\n",
    "#Swapping the variables using simple mathematical operations\n",
    "a = a + b\n",
    "b = a - b\n",
    "a = a - b\n",
    "print(f\"Method 2\\nReversed value of x = {a} and y = {b}\")"
   ]
  },
  {
   "cell_type": "code",
   "execution_count": 31,
   "id": "ea3781c6-c29b-47f4-b822-0c7044ff74b5",
   "metadata": {},
   "outputs": [
    {
     "name": "stdin",
     "output_type": "stream",
     "text": [
      "Enter the length of rectangle 10\n",
      "Enter the width of rectangle 20\n"
     ]
    },
    {
     "name": "stdout",
     "output_type": "stream",
     "text": [
      "Area of Rectangle = 200.0\n"
     ]
    }
   ],
   "source": [
    "#Q2]\n",
    "#taking inputs of length and width and then type casting it to float\n",
    "length = float(input(\"Enter the length of rectangle\"))\n",
    "width = float(input(\"Enter the width of rectangle\"))\n",
    "#calculating area and printing it using print function and f string\n",
    "print(f\"Area of Rectangle = {length*width}\")"
   ]
  },
  {
   "cell_type": "code",
   "execution_count": 34,
   "id": "61354f29-5307-4fd3-ae38-162b7607a6df",
   "metadata": {},
   "outputs": [
    {
     "name": "stdin",
     "output_type": "stream",
     "text": [
      "Enter the temprature in celsius 32\n"
     ]
    },
    {
     "name": "stdout",
     "output_type": "stream",
     "text": [
      "Fahrenheit = 89.6\n"
     ]
    }
   ],
   "source": [
    "#W3]\n",
    "#taking input of temprature in celsius and type casting it to float\n",
    "celsius = float(input(\"Enter the temprature in celsius\"))\n",
    "#converting celsius to fahrenheit using the formula 9/5*celsius + 32, inside the print function with help of f string\n",
    "print(f\"Fahrenheit = {9/5*celsius + 32}\")"
   ]
  },
  {
   "cell_type": "markdown",
   "id": "37a639a7-14b6-4d2b-8391-88bcbf8f3f27",
   "metadata": {},
   "source": [
    "String Based Questions"
   ]
  },
  {
   "cell_type": "code",
   "execution_count": 39,
   "id": "f26ccbd8-f8bd-4342-aa25-7bb98fd40977",
   "metadata": {},
   "outputs": [
    {
     "name": "stdin",
     "output_type": "stream",
     "text": [
      "Enter the string hello\n"
     ]
    },
    {
     "name": "stdout",
     "output_type": "stream",
     "text": [
      "Length of string = 5\n"
     ]
    }
   ],
   "source": [
    "#Q1]\n",
    "#Inputting the string\n",
    "s = input(\"Enter the string\")\n",
    "#printing the length using in built len() function\n",
    "print(f\"Length of string = {len(s)}\")"
   ]
  },
  {
   "cell_type": "code",
   "execution_count": 40,
   "id": "0dd516a7-2779-46b2-b892-329cbaf3c1ba",
   "metadata": {},
   "outputs": [
    {
     "name": "stdin",
     "output_type": "stream",
     "text": [
      "Enter the sentence hello\n"
     ]
    },
    {
     "name": "stdout",
     "output_type": "stream",
     "text": [
      "Vowels = 2\n"
     ]
    }
   ],
   "source": [
    "#Q2]\n",
    "#inputting the sentence\n",
    "s = input(\"Enter the sentence\")\n",
    "#counting the vowels using inbuilt method count()\n",
    "print(f\"Vowels = {s.count('a')+s.count('e')+s.count('i')+s.count('o')+s.count('u')}\")"
   ]
  },
  {
   "cell_type": "code",
   "execution_count": 41,
   "id": "6dbbd4f0-383c-4cec-a752-5878f34af66e",
   "metadata": {},
   "outputs": [
    {
     "name": "stdin",
     "output_type": "stream",
     "text": [
      "Enter the string hello\n"
     ]
    },
    {
     "name": "stdout",
     "output_type": "stream",
     "text": [
      "Reversed String \n",
      "olleh\n"
     ]
    }
   ],
   "source": [
    "#Q3]\n",
    "#Taking string as an input with help of input() function\n",
    "s = input(\"Enter the string\")\n",
    "#Reversing the entered string with help of string slicing\n",
    "print(f\"Reversed String \\n{s[::-1]}\")"
   ]
  },
  {
   "cell_type": "code",
   "execution_count": 42,
   "id": "345435c3-1641-431c-9912-e9a40239684b",
   "metadata": {},
   "outputs": [
    {
     "name": "stdin",
     "output_type": "stream",
     "text": [
      "Enter the string dad\n"
     ]
    },
    {
     "name": "stdout",
     "output_type": "stream",
     "text": [
      "True Palindrome\n"
     ]
    }
   ],
   "source": [
    "#Q4]\n",
    "#Taking string as an input using input() function\n",
    "s = input(\"Enter the string\")\n",
    "#Checking palindrome using == operator. If the output is True Palindrome, then it is palindrome.If the out put is False Palindrome, it isnt palindrome.\n",
    "print(f\"{s==s[::-1]} Palindrome\")"
   ]
  },
  {
   "cell_type": "code",
   "execution_count": 45,
   "id": "1bf16cce-7072-4ad0-8019-9082467427c3",
   "metadata": {},
   "outputs": [
    {
     "name": "stdin",
     "output_type": "stream",
     "text": [
      "Enter the string hello world ! !\n"
     ]
    },
    {
     "name": "stdout",
     "output_type": "stream",
     "text": [
      "String Without Spaces \n",
      "helloworld!!\n"
     ]
    }
   ],
   "source": [
    "#Q5]\n",
    "#Taking string as an input using input() function\n",
    "s = input(\"Enter the string\")\n",
    "#Removing space with help of remove method\n",
    "print(f\"String Without Spaces \\n{s.replace(' ','')}\")"
   ]
  },
  {
   "cell_type": "code",
   "execution_count": null,
   "id": "a87f3a9d-7869-4530-93c1-78bcbd441c6b",
   "metadata": {},
   "outputs": [],
   "source": []
  }
 ],
 "metadata": {
  "kernelspec": {
   "display_name": "Python 3 (ipykernel)",
   "language": "python",
   "name": "python3"
  },
  "language_info": {
   "codemirror_mode": {
    "name": "ipython",
    "version": 3
   },
   "file_extension": ".py",
   "mimetype": "text/x-python",
   "name": "python",
   "nbconvert_exporter": "python",
   "pygments_lexer": "ipython3",
   "version": "3.10.8"
  }
 },
 "nbformat": 4,
 "nbformat_minor": 5
}
